{
 "cells": [
  {
   "cell_type": "markdown",
   "metadata": {},
   "source": [
    "# Chainer mnist tutorial2\n",
    "\n",
    "自分の理解が深まるように少し改変  \n",
    "http://docs.chainer.org/en/stable/tutorial/basic.html  \n",
    "そしてChainerに付属のReporterを使えるようにした"
   ]
  },
  {
   "cell_type": "markdown",
   "metadata": {},
   "source": [
    "# Run all\n",
    "GPU: 0  \n",
    "unit: 1000  \n",
    "Minibatch-size: 100  \n",
    "epoch: 20  "
   ]
  },
  {
   "cell_type": "code",
   "execution_count": 1,
   "metadata": {
    "collapsed": false
   },
   "outputs": [],
   "source": [
    "#!/usr/bin/env python\n",
    "from __future__ import print_function\n",
    "import argparse\n",
    "import sys; sys.argv=['']; del sys\n",
    "\n",
    "import numpy as np\n",
    "import chainer\n",
    "import chainer.functions as F\n",
    "import chainer.links as L\n",
    "from chainer import training\n",
    "from chainer.training import extensions\n",
    "from chainer import Variable\n",
    "import copy # test iterator copy"
   ]
  },
  {
   "cell_type": "code",
   "execution_count": 2,
   "metadata": {
    "collapsed": false
   },
   "outputs": [],
   "source": [
    "class MLP(chainer.Chain):\n",
    "    def __init__(self, n_units, n_out):\n",
    "        super(MLP, self).__init__(\n",
    "             # the size of the inputs to each layer will be inferred\n",
    "            l1=L.Linear(784, n_units),  # n_in -> n_units\n",
    "            l2=L.Linear(n_units, n_units),  # n_units -> n_units\n",
    "            l3=L.Linear(n_units, n_out),    # n_units -> n_out\n",
    "            )\n",
    "    def __call__(self, x):\n",
    "        h1 = F.relu(self.l1(x))\n",
    "        h2 = F.relu(self.l2(h1))\n",
    "        y = self.l3(h2)\n",
    "        return y"
   ]
  },
  {
   "cell_type": "code",
   "execution_count": 3,
   "metadata": {
    "collapsed": false
   },
   "outputs": [],
   "source": [
    "class Classifier(chainer.Chain):\n",
    "    def __init__(self, predictor):\n",
    "        super(Classifier, self).__init__(predictor=predictor)\n",
    "        self.accuracy = None\n",
    "    def __call__(self, x, t):\n",
    "        y = self.predictor(x)\n",
    "        loss = F.softmax_cross_entropy(y, t)\n",
    "        accuracy = F.accuracy(y, t)\n",
    "        chainer.report({'loss': loss, 'accuracy': accuracy}, self)\n",
    "        return loss\n"
   ]
  },
  {
   "cell_type": "code",
   "execution_count": 16,
   "metadata": {
    "collapsed": true
   },
   "outputs": [],
   "source": [
    "class MyUpdater(chainer.training.StandardUpdater):\n",
    "\n",
    "    def __init__(self, iterator, optimizer, \n",
    "                 converter=chainer.dataset.convert.concat_examples, device=None):\n",
    "        if isinstance(iterator, chainer.dataset.iterator.Iterator):\n",
    "            iterator = {'main':iterator}\n",
    "\n",
    "        self._iterators = iterator\n",
    "\n",
    "        if isinstance(optimizer, chainer.optimizer.Optimizer):\n",
    "            optimizer = {'main': optimizer}\n",
    "        self._optimizers = optimizer\n",
    "\n",
    "        self.converter = converter\n",
    "        self.device = device\n",
    "        self.iteration = 0\n",
    "\n",
    "    def update_core(self):\n",
    "        batch = self._iterators['main'].next()\n",
    "        in_arrays = self.converter(batch, self.device)\n",
    "\n",
    "        optimizer = self._optimizers['main']\n",
    "        \n",
    "        loss = optimizer.target(in_arrays[0], in_arrays[1])\n",
    "        optimizer.target.cleargrads()\n",
    "        loss.backward()\n",
    "        optimizer.update()"
   ]
  },
  {
   "cell_type": "code",
   "execution_count": 17,
   "metadata": {
    "collapsed": true
   },
   "outputs": [],
   "source": [
    "unitsize = 1000\n",
    "batchsize = 100\n",
    "epochsize = 10"
   ]
  },
  {
   "cell_type": "code",
   "execution_count": 18,
   "metadata": {
    "collapsed": true
   },
   "outputs": [],
   "source": [
    "gpu_id = 0 #  use gpu\n",
    "model = Classifier(MLP(unitsize, 10))\n",
    "\n",
    "if gpu_id >= 0:\n",
    "    chainer.cuda.get_device(gpu_id).use()  # Make a specified GPU current\n",
    "    model.to_gpu()  # Copy the model to the GPU"
   ]
  },
  {
   "cell_type": "code",
   "execution_count": 27,
   "metadata": {
    "collapsed": true
   },
   "outputs": [],
   "source": [
    "# optimizer\n",
    "# optimizer = chainer.optimizers.SGD()\n",
    "optimizer = chainer.optimizers.Adam()\n",
    "\n",
    "optimizer.use_cleargrads()\n",
    "optimizer.setup(model)"
   ]
  },
  {
   "cell_type": "code",
   "execution_count": null,
   "metadata": {
    "collapsed": true
   },
   "outputs": [],
   "source": []
  },
  {
   "cell_type": "code",
   "execution_count": 28,
   "metadata": {
    "collapsed": false
   },
   "outputs": [
    {
     "data": {
      "text/plain": [
       "10000"
      ]
     },
     "execution_count": 28,
     "metadata": {},
     "output_type": "execute_result"
    }
   ],
   "source": [
    "# Load the MNIST dataset\n",
    "train, test = chainer.datasets.get_mnist()\n",
    "train_iter = chainer.iterators.SerialIterator(train, batchsize)\n",
    "test_iter = chainer.iterators.SerialIterator(test, batchsize, repeat=False, shuffle=False)\n",
    "testsize = len(test)\n",
    "testsize"
   ]
  },
  {
   "cell_type": "code",
   "execution_count": 29,
   "metadata": {
    "collapsed": false
   },
   "outputs": [
    {
     "data": {
      "text/plain": [
       "60000"
      ]
     },
     "execution_count": 29,
     "metadata": {},
     "output_type": "execute_result"
    }
   ],
   "source": [
    "trainsize = len(train)\n",
    "trainsize"
   ]
  },
  {
   "cell_type": "code",
   "execution_count": 30,
   "metadata": {
    "collapsed": false
   },
   "outputs": [],
   "source": [
    "# Set up a trainer\n",
    "updater = MyUpdater(train_iter, optimizer, device=gpu_id)\n",
    "trainer = training.Trainer(updater, (epochsize, 'epoch'), out='result')"
   ]
  },
  {
   "cell_type": "code",
   "execution_count": 31,
   "metadata": {
    "collapsed": false
   },
   "outputs": [],
   "source": [
    "# Dump a computational graph from 'loss' variable at the first iteration\n",
    "# The \"main\" refers to the target link of the \"main\" optimizer.\n",
    "trainer.extend(extensions.dump_graph('main/loss'))\n",
    "\n",
    "# Take a snapshot at each epoch\n",
    "trainer.extend(extensions.snapshot(), trigger=(10, 'epoch'))\n",
    "trainer.extend(extensions.Evaluator(test_iter, model, device=gpu_id))\n",
    "# Write a log of evaluation statistics for each epoch\n",
    "trainer.extend(extensions.LogReport())\n",
    "trainer.extend(extensions.PrintReport(\n",
    "    ['epoch', 'main/loss', 'validation/main/loss',\n",
    "     'main/accuracy', 'validation/main/accuracy', 'elapsed_time']))\n",
    "\n",
    "# Print a progress bar to stdout\n",
    "interval = trainsize/batchsize/2\n",
    "trainer.extend(extensions.ProgressBar(update_interval=interval))"
   ]
  },
  {
   "cell_type": "code",
   "execution_count": 32,
   "metadata": {
    "collapsed": false
   },
   "outputs": [
    {
     "name": "stdout",
     "output_type": "stream",
     "text": [
      "epoch       main/loss   validation/main/loss  main/accuracy  validation/main/accuracy  elapsed_time\n",
      "\u001b[J     total [##................................................]  5.00%\n",
      "this epoch [#########################.........................] 50.00%\n",
      "       300 iter, 0 epoch / 10 epochs\n",
      "       inf iters/sec. Estimated time to finish: 0:00:00.\n",
      "\u001b[4A\u001b[J1           0.0193066   0.101901              0.994599       0.9794                    2.39655       \n",
      "\u001b[J     total [#####.............................................] 10.00%\n",
      "this epoch [..................................................]  0.00%\n",
      "       600 iter, 1 epoch / 10 epochs\n",
      "    232.61 iters/sec. Estimated time to finish: 0:00:23.214352.\n",
      "\u001b[4A\u001b[J     total [#######...........................................] 15.00%\n",
      "this epoch [#########################.........................] 50.00%\n",
      "       900 iter, 1 epoch / 10 epochs\n",
      "    249.15 iters/sec. Estimated time to finish: 0:00:20.469658.\n",
      "\u001b[4A\u001b[J2           0.0124841   0.0848928             0.996232       0.9839                    4.82582       \n",
      "\u001b[J     total [##########........................................] 20.00%\n",
      "this epoch [..................................................]  0.00%\n",
      "      1200 iter, 2 epoch / 10 epochs\n",
      "    241.98 iters/sec. Estimated time to finish: 0:00:19.836561.\n",
      "\u001b[4A\u001b[J     total [############......................................] 25.00%\n",
      "this epoch [#########################.........................] 50.00%\n",
      "      1500 iter, 2 epoch / 10 epochs\n",
      "    253.43 iters/sec. Estimated time to finish: 0:00:17.756404.\n",
      "\u001b[4A\u001b[J3           0.0124986   0.100616              0.996049       0.982                     7.16593       \n",
      "\u001b[J     total [###############...................................] 30.00%\n",
      "this epoch [..................................................]  0.00%\n",
      "      1800 iter, 3 epoch / 10 epochs\n",
      "    247.55 iters/sec. Estimated time to finish: 0:00:16.966438.\n",
      "\u001b[4A\u001b[J     total [#################.................................] 35.00%\n",
      "this epoch [#########################.........................] 50.00%\n",
      "      2100 iter, 3 epoch / 10 epochs\n",
      "    250.31 iters/sec. Estimated time to finish: 0:00:15.580676.\n",
      "\u001b[4A\u001b[J4           0.0101016   0.103134              0.997099       0.9818                    9.63838       \n",
      "\u001b[J     total [####################..............................] 40.00%\n",
      "this epoch [..................................................]  0.00%\n",
      "      2400 iter, 4 epoch / 10 epochs\n",
      "    246.13 iters/sec. Estimated time to finish: 0:00:14.626250.\n",
      "\u001b[4A\u001b[J     total [######################............................] 45.00%\n",
      "this epoch [#########################.........................] 50.00%\n",
      "      2700 iter, 4 epoch / 10 epochs\n",
      "    250.75 iters/sec. Estimated time to finish: 0:00:13.160560.\n",
      "\u001b[4A\u001b[J5           0.0147838   0.0891161             0.995565       0.9832                    11.938        \n",
      "\u001b[J     total [#########################.........................] 50.00%\n",
      "this epoch [..................................................]  0.00%\n",
      "      3000 iter, 5 epoch / 10 epochs\n",
      "    249.27 iters/sec. Estimated time to finish: 0:00:12.035074.\n",
      "\u001b[4A\u001b[J     total [###########################.......................] 55.00%\n",
      "this epoch [#########################.........................] 50.00%\n",
      "      3300 iter, 5 epoch / 10 epochs\n",
      "    251.84 iters/sec. Estimated time to finish: 0:00:10.720964.\n",
      "\u001b[4A\u001b[J6           0.0078898   0.120109              0.997632       0.9797                    14.3278       \n",
      "\u001b[J     total [##############################....................] 60.00%\n",
      "this epoch [..................................................]  0.00%\n",
      "      3600 iter, 6 epoch / 10 epochs\n",
      "    249.59 iters/sec. Estimated time to finish: 0:00:09.615580.\n",
      "\u001b[4A\u001b[J     total [################################..................] 65.00%\n",
      "this epoch [#########################.........................] 50.00%\n",
      "      3900 iter, 6 epoch / 10 epochs\n",
      "    249.08 iters/sec. Estimated time to finish: 0:00:08.430866.\n",
      "\u001b[4A\u001b[J7           0.00907793  0.109215              0.996816       0.982                     16.8408       \n",
      "\u001b[J     total [###################################...............] 70.00%\n",
      "this epoch [..................................................]  0.00%\n",
      "      4200 iter, 7 epoch / 10 epochs\n",
      "    247.86 iters/sec. Estimated time to finish: 0:00:07.262041.\n",
      "\u001b[4A\u001b[J     total [#####################################.............] 75.00%\n",
      "this epoch [#########################.........................] 50.00%\n",
      "      4500 iter, 7 epoch / 10 epochs\n",
      "    250.08 iters/sec. Estimated time to finish: 0:00:05.998138.\n",
      "\u001b[4A\u001b[J8           0.00968088  0.114155              0.997149       0.9801                    19.2671       \n",
      "\u001b[J     total [########################################..........] 80.00%\n",
      "this epoch [..................................................]  0.00%\n",
      "      4800 iter, 8 epoch / 10 epochs\n",
      "    247.79 iters/sec. Estimated time to finish: 0:00:04.842858.\n",
      "\u001b[4A\u001b[J     total [##########################################........] 85.00%\n",
      "this epoch [#########################.........................] 50.00%\n",
      "      5100 iter, 8 epoch / 10 epochs\n",
      "    249.94 iters/sec. Estimated time to finish: 0:00:03.600839.\n",
      "\u001b[4A\u001b[J9           0.00813201  0.0975477             0.997549       0.9824                    21.5903       \n",
      "\u001b[J     total [#############################################.....] 90.00%\n",
      "this epoch [..................................................]  0.00%\n",
      "      5400 iter, 9 epoch / 10 epochs\n",
      "    248.98 iters/sec. Estimated time to finish: 0:00:02.409873.\n",
      "\u001b[4A\u001b[J     total [###############################################...] 95.00%\n",
      "this epoch [#########################.........................] 50.00%\n",
      "      5700 iter, 9 epoch / 10 epochs\n",
      "    250.67 iters/sec. Estimated time to finish: 0:00:01.196773.\n",
      "\u001b[4A\u001b[J10          0.00608725  0.106635              0.998216       0.9822                    23.9407       \n",
      "\u001b[J     total [##################################################] 100.00%\n",
      "this epoch [..................................................]  0.00%\n",
      "      6000 iter, 10 epoch / 10 epochs\n",
      "    249.62 iters/sec. Estimated time to finish: 0:00:00.\n",
      "\u001b[4A\u001b[J"
     ]
    }
   ],
   "source": [
    "# Run the training\n",
    "trainer.run()"
   ]
  },
  {
   "cell_type": "code",
   "execution_count": null,
   "metadata": {
    "collapsed": true
   },
   "outputs": [],
   "source": []
  }
 ],
 "metadata": {
  "anaconda-cloud": {},
  "kernelspec": {
   "display_name": "Python 2",
   "language": "python",
   "name": "python2"
  },
  "language_info": {
   "codemirror_mode": {
    "name": "ipython",
    "version": 2
   },
   "file_extension": ".py",
   "mimetype": "text/x-python",
   "name": "python",
   "nbconvert_exporter": "python",
   "pygments_lexer": "ipython2",
   "version": "2.7.6"
  },
  "widgets": {
   "state": {
    "366ede9cd4e448eeaaad604af59ee0f1": {
     "views": [
      {
       "cell_index": 39
      }
     ]
    }
   },
   "version": "1.2.0"
  }
 },
 "nbformat": 4,
 "nbformat_minor": 1
}
