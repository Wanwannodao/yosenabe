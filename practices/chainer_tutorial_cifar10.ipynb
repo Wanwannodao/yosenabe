{
 "cells": [
  {
   "cell_type": "markdown",
   "metadata": {},
   "source": [
    "# Chainer cifar10 tutorial\n",
    "自分の理解が深まるように少し改変  \n",
    "https://github.com/pfnet/chainer/blob/master/examples/cifar/train_cifar.py"
   ]
  },
  {
   "cell_type": "code",
   "execution_count": 22,
   "metadata": {
    "collapsed": true
   },
   "outputs": [],
   "source": [
    "#!/usr/bin/env python\n",
    "from __future__ import print_function\n",
    "import argparse\n",
    "import sys; sys.argv=['']; del sys\n",
    "\n",
    "import numpy as np\n",
    "import chainer\n",
    "import chainer.functions as F\n",
    "import chainer.links as L\n",
    "from chainer import training\n",
    "from chainer.training import extensions\n",
    "from chainer import Variable\n",
    "import copy # test iterator copy\n"
   ]
  },
  {
   "cell_type": "code",
   "execution_count": 23,
   "metadata": {
    "collapsed": true
   },
   "outputs": [],
   "source": [
    "dataset = 'cifar10'\n",
    "# dataset = 'mnist'\n",
    "\n",
    "batchsize = 128\n",
    "epochsize = 100"
   ]
  },
  {
   "cell_type": "markdown",
   "metadata": {},
   "source": [
    "# Load dataset"
   ]
  },
  {
   "cell_type": "code",
   "execution_count": 24,
   "metadata": {
    "collapsed": false
   },
   "outputs": [
    {
     "name": "stdout",
     "output_type": "stream",
     "text": [
      "Using CIFAR10 dataset.\n"
     ]
    }
   ],
   "source": [
    "if dataset == 'cifar10':\n",
    "    print('Using CIFAR10 dataset.')\n",
    "    class_labels = 10\n",
    "    train, test = chainer.datasets.get_cifar10()\n",
    "elif dataset == 'cifar100':\n",
    "    print('Using CIFAR100 dataset.')\n",
    "    class_labels = 100\n",
    "    train, test = chainer.datasets.get_cifar100()\n",
    "elif dataset == 'mnist':\n",
    "    print('Using mnist dataset.')\n",
    "    class_labels = 10\n",
    "    train, test = chainer.datasets.get_mnist()\n",
    "    train = [(it[0].reshape(1, 28, 28),it[1]) for it in train]\n",
    "    test = [(it[0].reshape(1, 28, 28),it[1]) for it in test]"
   ]
  },
  {
   "cell_type": "code",
   "execution_count": null,
   "metadata": {
    "collapsed": true
   },
   "outputs": [],
   "source": []
  },
  {
   "cell_type": "code",
   "execution_count": 25,
   "metadata": {
    "collapsed": false,
    "scrolled": true
   },
   "outputs": [
    {
     "name": "stdout",
     "output_type": "stream",
     "text": [
      "50000\n",
      "10000\n"
     ]
    }
   ],
   "source": [
    "print(len(train))\n",
    "print(len(test))"
   ]
  },
  {
   "cell_type": "code",
   "execution_count": 26,
   "metadata": {
    "collapsed": false
   },
   "outputs": [
    {
     "data": {
      "text/plain": [
       "(3, 32, 32)"
      ]
     },
     "execution_count": 26,
     "metadata": {},
     "output_type": "execute_result"
    }
   ],
   "source": [
    "train[0][0].shape"
   ]
  },
  {
   "cell_type": "code",
   "execution_count": 27,
   "metadata": {
    "collapsed": false
   },
   "outputs": [
    {
     "data": {
      "text/plain": [
       "numpy.ndarray"
      ]
     },
     "execution_count": 27,
     "metadata": {},
     "output_type": "execute_result"
    }
   ],
   "source": [
    "type(train[0][0])"
   ]
  },
  {
   "cell_type": "code",
   "execution_count": 28,
   "metadata": {
    "collapsed": false
   },
   "outputs": [],
   "source": [
    "# train = [(it[0].flatten(),it[1]) for it in train]\n",
    "# test = [(it[0].flatten(),it[1]) for it in test]"
   ]
  },
  {
   "cell_type": "code",
   "execution_count": 29,
   "metadata": {
    "collapsed": false
   },
   "outputs": [
    {
     "data": {
      "text/plain": [
       "10000"
      ]
     },
     "execution_count": 29,
     "metadata": {},
     "output_type": "execute_result"
    }
   ],
   "source": [
    "# Load the cifar dataset\n",
    "train_iter = chainer.iterators.SerialIterator(train, batchsize)\n",
    "test_iter = chainer.iterators.SerialIterator(test, batchsize, repeat=False, shuffle=False)\n",
    "testsize = len(test)\n",
    "testsize"
   ]
  },
  {
   "cell_type": "markdown",
   "metadata": {},
   "source": [
    "# Network"
   ]
  },
  {
   "cell_type": "code",
   "execution_count": 30,
   "metadata": {
    "collapsed": false
   },
   "outputs": [],
   "source": [
    "class VGG(chainer.Chain):\n",
    "    def __init__(self, class_labels):\n",
    "        initializer = chainer.initializers.HeNormal()\n",
    "        c1 = 32\n",
    "        c2 = 64\n",
    "        c3 = 64\n",
    "        c4 = 128\n",
    "\n",
    "        super(VGG, self).__init__(\n",
    "             # the size of the inputs to each layer will be inferred\n",
    "            conv1=L.Convolution2D(None, c1, 3, stride=1, pad=0),\n",
    "            conv2=L.Convolution2D(32, c2, 3, stride=1, pad=0),\n",
    "            conv3=L.Convolution2D(64, c3, 3, stride=1, pad=1),\n",
    "            conv4=L.Convolution2D(64, c4, 3, stride=1, pad=1),\n",
    "            fc1=L.Linear(512, 1000, initialW=initializer),\n",
    "            fc2=L.Linear(1000, class_labels, initialW=initializer),\n",
    "            bnorm1=L.BatchNormalization(c1),\n",
    "            bnorm2=L.BatchNormalization(c2),\n",
    "            bnorm3=L.BatchNormalization(c3),\n",
    "            bnorm4=L.BatchNormalization(c4),\n",
    "        )\n",
    "\n",
    "    def __call__(self, x):\n",
    "        h = F.max_pooling_2d(F.relu(self.bnorm1(self.conv1(x))), 2, stride=2)\n",
    "        h = F.max_pooling_2d(F.relu(self.bnorm2(self.conv2(h))), 2, stride=2)\n",
    "        h = F.max_pooling_2d(F.relu(self.bnorm3(self.conv3(h))), 2, stride=2)\n",
    "        h = F.max_pooling_2d(F.relu(self.bnorm4(self.conv4(h))), 2, stride=2)\n",
    "        h = F.relu(self.fc1(h))\n",
    "        y = self.fc2(h)        \n",
    "        return y"
   ]
  },
  {
   "cell_type": "code",
   "execution_count": 31,
   "metadata": {
    "collapsed": false
   },
   "outputs": [],
   "source": [
    "class Classifier(chainer.Chain):\n",
    "    def __init__(self, predictor):\n",
    "        super(Classifier, self).__init__(predictor=predictor)\n",
    "        \n",
    "    def clear(self):\n",
    "        self.loss = None\n",
    "        self.accuracy = None\n",
    "        \n",
    "    def __call__(self, x, t):\n",
    "        self.clear()\n",
    "        y = self.predictor(x)\n",
    "        loss = F.softmax_cross_entropy(y, t)\n",
    "        self.accuracy = F.accuracy(y, t)\n",
    "        chainer.report({'loss': loss, 'accuracy': self.accuracy}, self)\n",
    "        return loss\n"
   ]
  },
  {
   "cell_type": "code",
   "execution_count": 32,
   "metadata": {
    "collapsed": false
   },
   "outputs": [],
   "source": [
    "\n",
    "gpu_id = 0 #  use gpu\n",
    "model = Classifier(VGG(class_labels))\n",
    "\n",
    "if gpu_id >= 0:\n",
    "    chainer.cuda.get_device(gpu_id).use()  # Make a specified GPU current\n",
    "    model.to_gpu()  # Copy the model to the GPU"
   ]
  },
  {
   "cell_type": "markdown",
   "metadata": {},
   "source": [
    "# Load weight"
   ]
  },
  {
   "cell_type": "code",
   "execution_count": 35,
   "metadata": {
    "collapsed": false
   },
   "outputs": [
    {
     "name": "stdout",
     "output_type": "stream",
     "text": [
      "10 loops, best of 3: 102 ms per loop\n"
     ]
    }
   ],
   "source": [
    "chainer.serializers.load_hdf5(\"chainer_tutorial_cifar10.h5\", model) "
   ]
  },
  {
   "cell_type": "code",
   "execution_count": 37,
   "metadata": {
    "collapsed": false
   },
   "outputs": [
    {
     "name": "stdout",
     "output_type": "stream",
     "text": [
      "10 loops, best of 3: 24 ms per loop\n"
     ]
    }
   ],
   "source": [
    "%%timeit\n",
    "chainer.serializers.load_hdf5(\"chainer_tutorial_cifar10.h5\", model) "
   ]
  },
  {
   "cell_type": "code",
   "execution_count": 36,
   "metadata": {
    "collapsed": false,
    "scrolled": true
   },
   "outputs": [
    {
     "name": "stdout",
     "output_type": "stream",
     "text": [
      "10 loops, best of 3: 75.4 ms per loop\n"
     ]
    }
   ],
   "source": []
  },
  {
   "cell_type": "code",
   "execution_count": null,
   "metadata": {
    "collapsed": true
   },
   "outputs": [],
   "source": []
  },
  {
   "cell_type": "markdown",
   "metadata": {},
   "source": [
    "# Setup an optimizer"
   ]
  },
  {
   "cell_type": "code",
   "execution_count": 13,
   "metadata": {
    "collapsed": true
   },
   "outputs": [],
   "source": [
    "optimizer = chainer.optimizers.MomentumSGD(0.1)\n",
    "optimizer.use_cleargrads()\n",
    "optimizer.setup(model)\n",
    "optimizer.add_hook(chainer.optimizer.WeightDecay(5e-4))"
   ]
  },
  {
   "cell_type": "code",
   "execution_count": null,
   "metadata": {
    "collapsed": true
   },
   "outputs": [],
   "source": []
  },
  {
   "cell_type": "code",
   "execution_count": 14,
   "metadata": {
    "collapsed": true
   },
   "outputs": [],
   "source": [
    "batch = train_iter.next()"
   ]
  },
  {
   "cell_type": "code",
   "execution_count": 15,
   "metadata": {
    "collapsed": false
   },
   "outputs": [
    {
     "data": {
      "text/plain": [
       "<module 'cupy' from '/home/komatsu/anaconda2/lib/python2.7/site-packages/cupy/__init__.pyc'>"
      ]
     },
     "execution_count": 15,
     "metadata": {},
     "output_type": "execute_result"
    }
   ],
   "source": [
    "xp = model.xp\n",
    "xp"
   ]
  },
  {
   "cell_type": "code",
   "execution_count": 16,
   "metadata": {
    "collapsed": true
   },
   "outputs": [],
   "source": [
    "x = xp.asarray([it[0] for it in batch], dtype=np.float32)\n",
    "t = xp.asarray([it[1] for it in batch], dtype=np.int32)"
   ]
  },
  {
   "cell_type": "code",
   "execution_count": 17,
   "metadata": {
    "collapsed": false
   },
   "outputs": [
    {
     "data": {
      "text/plain": [
       "(3, 32, 32)"
      ]
     },
     "execution_count": 17,
     "metadata": {},
     "output_type": "execute_result"
    }
   ],
   "source": [
    "x[0].shape"
   ]
  },
  {
   "cell_type": "code",
   "execution_count": 18,
   "metadata": {
    "collapsed": false
   },
   "outputs": [
    {
     "name": "stdout",
     "output_type": "stream",
     "text": [
      "0.247173860669\n"
     ]
    }
   ],
   "source": [
    "# predict without Classifier\n",
    "y = model.predictor(x)\n",
    "loss = F.softmax_cross_entropy(y, t)\n",
    "#print(y.data)\n",
    "print(loss.data)"
   ]
  },
  {
   "cell_type": "code",
   "execution_count": 19,
   "metadata": {
    "collapsed": false
   },
   "outputs": [
    {
     "data": {
      "text/plain": [
       "array([[ -3.15248442,  -6.40561676,  -1.88427174, ...,  16.68401527,\n",
       "         -6.88736391,  -4.76229382],\n",
       "       [  0.46081591,  -3.38987923,   2.94827199, ...,  -1.34495747,\n",
       "         -3.0659709 ,  -3.54287839],\n",
       "       [ -1.00618732,  12.14224815,  -4.13446903, ...,  -5.8096509 ,\n",
       "         -0.80040574,  14.07317257],\n",
       "       ..., \n",
       "       [ -2.12578392,  -3.45731497,   0.17912379, ...,   5.88494968,\n",
       "         -3.67554474,  -1.61835313],\n",
       "       [ -1.63420928,  -2.85191417,   1.45297587, ...,  -0.69618595,\n",
       "         -2.26373434,   1.55776119],\n",
       "       [  3.77103806,   1.64278674,  -0.63880855, ...,  -4.89644909,\n",
       "          9.26553726,   0.81517953]], dtype=float32)"
      ]
     },
     "execution_count": 19,
     "metadata": {},
     "output_type": "execute_result"
    }
   ],
   "source": [
    "y.data"
   ]
  },
  {
   "cell_type": "code",
   "execution_count": 20,
   "metadata": {
    "collapsed": false
   },
   "outputs": [
    {
     "data": {
      "text/plain": [
       "array(7, dtype=int32)"
      ]
     },
     "execution_count": 20,
     "metadata": {},
     "output_type": "execute_result"
    }
   ],
   "source": [
    "t[0]"
   ]
  },
  {
   "cell_type": "code",
   "execution_count": null,
   "metadata": {
    "collapsed": true
   },
   "outputs": [],
   "source": []
  },
  {
   "cell_type": "code",
   "execution_count": null,
   "metadata": {
    "collapsed": true
   },
   "outputs": [],
   "source": []
  },
  {
   "cell_type": "code",
   "execution_count": 21,
   "metadata": {
    "collapsed": false
   },
   "outputs": [
    {
     "name": "stdout",
     "output_type": "stream",
     "text": [
      "epoch : 0, Mean loss: 0.703432738781, Mean accuracy: 0.776799976826\n",
      "epoch : 1, Mean loss: 0.660486578941, Mean accuracy: 0.791499972343\n",
      "epoch : 2, Mean loss: 0.660650730133, Mean accuracy: 0.787699997425\n",
      "epoch : 3, Mean loss: 0.679507434368, Mean accuracy: 0.78409999609\n",
      "epoch : 4, Mean loss: 0.693096160889, Mean accuracy: 0.775200009346\n",
      "epoch : 5, Mean loss: 0.669409990311, Mean accuracy: 0.79390001297\n",
      "epoch : 6, Mean loss: 0.626967310905, Mean accuracy: 0.793200016022\n",
      "epoch : 7, Mean loss: 0.673231124878, Mean accuracy: 0.782100021839\n",
      "epoch : 8, Mean loss: 0.660661041737, Mean accuracy: 0.787699997425\n",
      "epoch : 9, Mean loss: 0.683186531067, Mean accuracy: 0.782800018787\n",
      "epoch : 10, Mean loss: 0.689220309258, Mean accuracy: 0.779600024223\n",
      "epoch : 11, Mean loss: 0.671059727669, Mean accuracy: 0.784500002861\n",
      "epoch : 12, Mean loss: 0.741511642933, Mean accuracy: 0.76700001955\n",
      "epoch : 13, Mean loss: 0.685344696045, Mean accuracy: 0.791899979115\n",
      "epoch : 14, Mean loss: 0.756933569908, Mean accuracy: 0.76709997654\n",
      "epoch : 15, Mean loss: 0.660279810429, Mean accuracy: 0.787699997425\n",
      "epoch : 16, Mean loss: 0.712846934795, Mean accuracy: 0.768199980259\n",
      "epoch : 17, Mean loss: 0.682019174099, Mean accuracy: 0.788800001144\n",
      "epoch : 18, Mean loss: 0.665447294712, Mean accuracy: 0.790499985218\n",
      "epoch : 19, Mean loss: 0.696639418602, Mean accuracy: 0.779399991035\n",
      "epoch : 20, Mean loss: 0.715722084045, Mean accuracy: 0.779799997807\n",
      "epoch : 21, Mean loss: 0.693990290165, Mean accuracy: 0.776099979877\n",
      "epoch : 22, Mean loss: 0.680528521538, Mean accuracy: 0.784300029278\n",
      "epoch : 23, Mean loss: 0.697739601135, Mean accuracy: 0.778599977493\n",
      "epoch : 24, Mean loss: 0.683481574059, Mean accuracy: 0.785399973392\n",
      "epoch : 25, Mean loss: 0.732406914234, Mean accuracy: 0.776700019836\n",
      "epoch : 26, Mean loss: 0.668493926525, Mean accuracy: 0.789300024509\n",
      "epoch : 27, Mean loss: 0.638687431812, Mean accuracy: 0.796599984169\n",
      "epoch : 28, Mean loss: 0.667168498039, Mean accuracy: 0.785300016403\n",
      "epoch : 29, Mean loss: 0.698935508728, Mean accuracy: 0.776099979877\n",
      "epoch : 30, Mean loss: 0.667962491512, Mean accuracy: 0.785099983215\n",
      "epoch : 31, Mean loss: 0.664017617702, Mean accuracy: 0.795099973679\n",
      "epoch : 32, Mean loss: 0.684367954731, Mean accuracy: 0.786099970341\n",
      "epoch : 33, Mean loss: 0.727878153324, Mean accuracy: 0.771399974823\n",
      "epoch : 34, Mean loss: 0.665034532547, Mean accuracy: 0.785899996758\n",
      "epoch : 35, Mean loss: 0.68397051096, Mean accuracy: 0.792299985886\n",
      "epoch : 36, Mean loss: 0.699167490005, Mean accuracy: 0.790600001812\n",
      "epoch : 37, Mean loss: 0.716554403305, Mean accuracy: 0.776099979877\n",
      "epoch : 38, Mean loss: 0.672953486443, Mean accuracy: 0.786199986935\n",
      "epoch : 39, Mean loss: 0.700118482113, Mean accuracy: 0.780799984932\n",
      "epoch : 40, Mean loss: 0.675183773041, Mean accuracy: 0.786499977112\n",
      "epoch : 41, Mean loss: 0.731161892414, Mean accuracy: 0.762199997902\n",
      "epoch : 42, Mean loss: 0.684331476688, Mean accuracy: 0.78250002861\n",
      "epoch : 43, Mean loss: 0.680943727493, Mean accuracy: 0.782000005245\n",
      "epoch : 44, Mean loss: 0.684812426567, Mean accuracy: 0.780600011349\n",
      "epoch : 45, Mean loss: 0.677303910255, Mean accuracy: 0.782100021839\n",
      "epoch : 46, Mean loss: 0.708208978176, Mean accuracy: 0.776499986649\n",
      "epoch : 47, Mean loss: 0.66618591547, Mean accuracy: 0.787699997425\n",
      "epoch : 48, Mean loss: 0.661724865437, Mean accuracy: 0.78719997406\n",
      "epoch : 49, Mean loss: 0.693031907082, Mean accuracy: 0.78149998188\n",
      "epoch : 50, Mean loss: 0.684263169765, Mean accuracy: 0.785799980164\n",
      "epoch : 51, Mean loss: 0.694944024086, Mean accuracy: 0.783500015736\n",
      "epoch : 52, Mean loss: 0.664650917053, Mean accuracy: 0.79129999876\n",
      "epoch : 53, Mean loss: 0.699999809265, Mean accuracy: 0.776400029659\n",
      "epoch : 54, Mean loss: 0.668885111809, Mean accuracy: 0.791000008583\n",
      "epoch : 55, Mean loss: 0.682833909988, Mean accuracy: 0.788600027561\n",
      "epoch : 56, Mean loss: 0.681082963943, Mean accuracy: 0.782100021839\n",
      "epoch : 57, Mean loss: 0.720169126987, Mean accuracy: 0.775600016117\n",
      "epoch : 58, Mean loss: 0.658651769161, Mean accuracy: 0.792500019073\n",
      "epoch : 59, Mean loss: 0.682496905327, Mean accuracy: 0.778900027275\n",
      "epoch : 60, Mean loss: 0.672805547714, Mean accuracy: 0.78869998455\n",
      "epoch : 61, Mean loss: 0.665995776653, Mean accuracy: 0.78560000658\n",
      "epoch : 62, Mean loss: 0.652507901192, Mean accuracy: 0.791899979115\n",
      "epoch : 63, Mean loss: 0.68266838789, Mean accuracy: 0.782899975777\n",
      "epoch : 64, Mean loss: 0.73647248745, Mean accuracy: 0.779699981213\n",
      "epoch : 65, Mean loss: 0.727526187897, Mean accuracy: 0.770299971104\n",
      "epoch : 66, Mean loss: 0.666657328606, Mean accuracy: 0.788600027561\n",
      "epoch : 67, Mean loss: 0.728428542614, Mean accuracy: 0.770200014114\n",
      "epoch : 68, Mean loss: 0.687299728394, Mean accuracy: 0.782400012016\n",
      "epoch : 69, Mean loss: 0.740161180496, Mean accuracy: 0.769999980927\n",
      "epoch : 70, Mean loss: 0.742904961109, Mean accuracy: 0.773000001907\n",
      "epoch : 71, Mean loss: 0.707480430603, Mean accuracy: 0.780799984932\n",
      "epoch : 72, Mean loss: 0.671519815922, Mean accuracy: 0.785099983215\n",
      "epoch : 73, Mean loss: 0.705227077007, Mean accuracy: 0.773400008678\n",
      "epoch : 74, Mean loss: 0.726745545864, Mean accuracy: 0.777700006962\n",
      "epoch : 75, Mean loss: 0.722091853619, Mean accuracy: 0.772199988365\n",
      "epoch : 76, Mean loss: 0.669482707977, Mean accuracy: 0.785399973392\n",
      "epoch : 77, Mean loss: 0.647825956345, Mean accuracy: 0.790700018406\n",
      "epoch : 78, Mean loss: 0.69449532032, Mean accuracy: 0.780600011349\n",
      "epoch : 79, Mean loss: 0.680144965649, Mean accuracy: 0.782000005245\n",
      "epoch : 80, Mean loss: 0.636698365211, Mean accuracy: 0.791100025177\n",
      "epoch : 81, Mean loss: 0.72270065546, Mean accuracy: 0.768499970436\n",
      "epoch : 82, Mean loss: 0.670940577984, Mean accuracy: 0.791800022125\n",
      "epoch : 83, Mean loss: 0.655237078667, Mean accuracy: 0.793099999428\n",
      "epoch : 84, Mean loss: 0.659037470818, Mean accuracy: 0.791899979115\n",
      "epoch : 85, Mean loss: 0.669959008694, Mean accuracy: 0.785399973392\n",
      "epoch : 86, Mean loss: 0.686751484871, Mean accuracy: 0.781899988651\n",
      "epoch : 87, Mean loss: 0.674816250801, Mean accuracy: 0.782700002193\n",
      "epoch : 88, Mean loss: 0.716125130653, Mean accuracy: 0.773100018501\n",
      "epoch : 89, Mean loss: 0.684853374958, Mean accuracy: 0.784300029278\n",
      "epoch : 90, Mean loss: 0.717329084873, Mean accuracy: 0.778999984264\n",
      "epoch : 91, Mean loss: 0.679125070572, Mean accuracy: 0.793600022793\n",
      "epoch : 92, Mean loss: 0.674329578876, Mean accuracy: 0.790899991989\n",
      "epoch : 93, Mean loss: 0.66977930069, Mean accuracy: 0.782700002193\n",
      "epoch : 94, Mean loss: 0.6950776577, Mean accuracy: 0.787400007248\n",
      "epoch : 95, Mean loss: 0.686649441719, Mean accuracy: 0.783599972725\n",
      "epoch : 96, Mean loss: 0.665627777576, Mean accuracy: 0.786199986935\n",
      "epoch : 97, Mean loss: 0.737442314625, Mean accuracy: 0.764100015163\n",
      "epoch : 98, Mean loss: 0.751215398312, Mean accuracy: 0.76139998436\n",
      "epoch : 99, Mean loss: 0.68166077137, Mean accuracy: 0.786300003529\n",
      "\n",
      "CPU times: user 8min 9s, sys: 8min 31s, total: 16min 40s\n",
      "Wall time: 16min 40s\n"
     ]
    }
   ],
   "source": [
    "%%time\n",
    "from tqdm import tqdm_notebook as tqdm\n",
    "# from tqdm import tqdm\n",
    "\n",
    "# run\n",
    "xp = model.xp\n",
    "\n",
    "pbar = tqdm(xrange(epochsize))\n",
    "for epoch in pbar:\n",
    "    for batch in train_iter:\n",
    "        # data separation\n",
    "        x = xp.asarray([it[0] for it in batch], dtype=np.float32)\n",
    "        t = xp.asarray([it[1] for it in batch], dtype=np.int32)\n",
    "        # compute grad\n",
    "        loss = model(x, t)\n",
    "        model.cleargrads()\n",
    "        loss.backward()\n",
    "        optimizer.update()\n",
    "\n",
    "        # terminate\n",
    "        if train_iter.is_new_epoch is True:\n",
    "            break\n",
    "\n",
    "    # evaluate model   \n",
    "    sum_loss = 0\n",
    "    sum_acc = 0\n",
    "    test_iter_copy = copy.copy(test_iter)\n",
    "    for test_batch in test_iter_copy:\n",
    "        # data separation\n",
    "        x = xp.asarray([it[0] for it in test_batch], dtype=np.float32)\n",
    "        t = xp.asarray([it[1] for it in test_batch], dtype=np.int32)\n",
    "        # compute grad\n",
    "        loss = model(x, t)\n",
    "        sum_loss += loss.data * len(test_batch)\n",
    "        sum_acc += model.accuracy.data * len(test_batch)\n",
    "    mean_loss = sum_loss / testsize\n",
    "    mean_acc = sum_acc / testsize\n",
    "#     print(''.format(epoch=epoch))\n",
    "    print('epoch : {epoch}, Mean loss: {loss}, Mean accuracy: {acc}'.format(epoch=epoch, loss=mean_loss, acc=mean_acc))\n",
    "    # pbar.set_description('epoch : {epoch}'.format(epoch=epoch))"
   ]
  },
  {
   "cell_type": "markdown",
   "metadata": {},
   "source": [
    "# Save model"
   ]
  },
  {
   "cell_type": "code",
   "execution_count": null,
   "metadata": {
    "collapsed": true
   },
   "outputs": [],
   "source": [
    "chainer.serializers.save_hdf5(\"chainer_tutorial_cifar10.h5\", model) "
   ]
  },
  {
   "cell_type": "code",
   "execution_count": null,
   "metadata": {
    "collapsed": true
   },
   "outputs": [],
   "source": []
  },
  {
   "cell_type": "code",
   "execution_count": 23,
   "metadata": {
    "collapsed": false
   },
   "outputs": [],
   "source": [
    "chainer.serializers.save_npz(\"chainer_tutorial_cifar10.npz\", model) "
   ]
  },
  {
   "cell_type": "code",
   "execution_count": null,
   "metadata": {
    "collapsed": true
   },
   "outputs": [],
   "source": []
  }
 ],
 "metadata": {
  "anaconda-cloud": {},
  "kernelspec": {
   "display_name": "Python [conda root]",
   "language": "python",
   "name": "conda-root-py"
  },
  "language_info": {
   "codemirror_mode": {
    "name": "ipython",
    "version": 2
   },
   "file_extension": ".py",
   "mimetype": "text/x-python",
   "name": "python",
   "nbconvert_exporter": "python",
   "pygments_lexer": "ipython2",
   "version": "2.7.12"
  },
  "widgets": {
   "state": {
    "a47ebc1a3cff48de8d3f83d5beb21942": {
     "views": [
      {
       "cell_index": 29
      }
     ]
    }
   },
   "version": "1.2.0"
  }
 },
 "nbformat": 4,
 "nbformat_minor": 1
}
