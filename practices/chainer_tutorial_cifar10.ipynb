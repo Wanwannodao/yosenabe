{
 "cells": [
  {
   "cell_type": "markdown",
   "metadata": {},
   "source": [
    "# Chainer cifar10 tutorial\n",
    "自分の理解が深まるように少し改変  \n",
    "https://github.com/pfnet/chainer/blob/master/examples/cifar/train_cifar.py"
   ]
  },
  {
   "cell_type": "code",
   "execution_count": 1,
   "metadata": {
    "collapsed": true
   },
   "outputs": [],
   "source": [
    "#!/usr/bin/env python\n",
    "from __future__ import print_function\n",
    "import argparse\n",
    "import sys; sys.argv=['']; del sys\n",
    "\n",
    "import numpy as np\n",
    "import chainer\n",
    "import chainer.functions as F\n",
    "import chainer.links as L\n",
    "from chainer import training\n",
    "from chainer.training import extensions\n",
    "from chainer import Variable\n",
    "import copy # test iterator copy\n"
   ]
  },
  {
   "cell_type": "code",
   "execution_count": 2,
   "metadata": {
    "collapsed": true
   },
   "outputs": [],
   "source": [
    "dataset = 'cifar10'\n",
    "# dataset = 'mnist'\n",
    "\n",
    "batchsize = 128\n",
    "epochsize = 300"
   ]
  },
  {
   "cell_type": "markdown",
   "metadata": {},
   "source": [
    "# Load dataset"
   ]
  },
  {
   "cell_type": "code",
   "execution_count": 3,
   "metadata": {
    "collapsed": false
   },
   "outputs": [
    {
     "name": "stdout",
     "output_type": "stream",
     "text": [
      "Using CIFAR10 dataset.\n"
     ]
    }
   ],
   "source": [
    "if dataset == 'cifar10':\n",
    "    print('Using CIFAR10 dataset.')\n",
    "    class_labels = 10\n",
    "    train, test = chainer.datasets.get_cifar10()\n",
    "elif dataset == 'cifar100':\n",
    "    print('Using CIFAR100 dataset.')\n",
    "    class_labels = 100\n",
    "    train, test = chainer.datasets.get_cifar100()\n",
    "elif dataset == 'mnist':\n",
    "    print('Using mnist dataset.')\n",
    "    class_labels = 10\n",
    "    train, test = chainer.datasets.get_mnist()\n",
    "    train = [(it[0].reshape(1, 28, 28),it[1]) for it in train]\n",
    "    test = [(it[0].reshape(1, 28, 28),it[1]) for it in test]"
   ]
  },
  {
   "cell_type": "code",
   "execution_count": null,
   "metadata": {
    "collapsed": true
   },
   "outputs": [],
   "source": []
  },
  {
   "cell_type": "code",
   "execution_count": 4,
   "metadata": {
    "collapsed": false,
    "scrolled": true
   },
   "outputs": [
    {
     "name": "stdout",
     "output_type": "stream",
     "text": [
      "50000\n",
      "10000\n"
     ]
    }
   ],
   "source": [
    "print(len(train))\n",
    "print(len(test))"
   ]
  },
  {
   "cell_type": "code",
   "execution_count": 5,
   "metadata": {
    "collapsed": false
   },
   "outputs": [
    {
     "data": {
      "text/plain": [
       "(3, 32, 32)"
      ]
     },
     "execution_count": 5,
     "metadata": {},
     "output_type": "execute_result"
    }
   ],
   "source": [
    "train[0][0].shape"
   ]
  },
  {
   "cell_type": "code",
   "execution_count": 6,
   "metadata": {
    "collapsed": false
   },
   "outputs": [
    {
     "data": {
      "text/plain": [
       "numpy.ndarray"
      ]
     },
     "execution_count": 6,
     "metadata": {},
     "output_type": "execute_result"
    }
   ],
   "source": [
    "type(train[0][0])"
   ]
  },
  {
   "cell_type": "code",
   "execution_count": 7,
   "metadata": {
    "collapsed": false
   },
   "outputs": [],
   "source": [
    "# train = [(it[0].flatten(),it[1]) for it in train]\n",
    "# test = [(it[0].flatten(),it[1]) for it in test]"
   ]
  },
  {
   "cell_type": "code",
   "execution_count": 8,
   "metadata": {
    "collapsed": false
   },
   "outputs": [
    {
     "data": {
      "text/plain": [
       "10000"
      ]
     },
     "execution_count": 8,
     "metadata": {},
     "output_type": "execute_result"
    }
   ],
   "source": [
    "# Load the cifar dataset\n",
    "train_iter = chainer.iterators.SerialIterator(train, batchsize)\n",
    "test_iter = chainer.iterators.SerialIterator(test, batchsize, repeat=False, shuffle=False)\n",
    "testsize = len(test)\n",
    "testsize"
   ]
  },
  {
   "cell_type": "markdown",
   "metadata": {},
   "source": [
    "# Network"
   ]
  },
  {
   "cell_type": "code",
   "execution_count": 9,
   "metadata": {
    "collapsed": false
   },
   "outputs": [],
   "source": [
    "class VGG(chainer.Chain):\n",
    "    def __init__(self, class_labels):\n",
    "        initializer = chainer.initializers.HeNormal()\n",
    "        c1 = 32\n",
    "        c2 = 64\n",
    "        c3 = 64\n",
    "        c4 = 128\n",
    "\n",
    "        super(VGG, self).__init__(\n",
    "             # the size of the inputs to each layer will be inferred\n",
    "            conv1=L.Convolution2D(None, c1, 3, stride=1, pad=0),\n",
    "            conv2=L.Convolution2D(32, c2, 3, stride=1, pad=0),\n",
    "            conv3=L.Convolution2D(64, c3, 3, stride=1, pad=1),\n",
    "            conv4=L.Convolution2D(64, c4, 3, stride=1, pad=1),\n",
    "            fc1=L.Linear(512, 1000, initialW=initializer),\n",
    "            fc2=L.Linear(1000, class_labels, initialW=initializer),\n",
    "            bnorm1=L.BatchNormalization(c1),\n",
    "            bnorm2=L.BatchNormalization(c2),\n",
    "            bnorm3=L.BatchNormalization(c3),\n",
    "            bnorm4=L.BatchNormalization(c4),\n",
    "        )\n",
    "\n",
    "    def __call__(self, x):\n",
    "        h = F.max_pooling_2d(F.relu(self.bnorm1(self.conv1(x))), 2, stride=2)\n",
    "        h = F.max_pooling_2d(F.relu(self.bnorm2(self.conv2(h))), 2, stride=2)\n",
    "        h = F.max_pooling_2d(F.relu(self.bnorm3(self.conv3(h))), 2, stride=2)\n",
    "        h = F.max_pooling_2d(F.relu(self.bnorm4(self.conv4(h))), 2, stride=2)\n",
    "        h = F.relu(self.fc1(h))\n",
    "        y = self.fc2(h)        \n",
    "        return y"
   ]
  },
  {
   "cell_type": "code",
   "execution_count": 10,
   "metadata": {
    "collapsed": false
   },
   "outputs": [],
   "source": [
    "class Classifier(chainer.Chain):\n",
    "    def __init__(self, predictor):\n",
    "        super(Classifier, self).__init__(predictor=predictor)\n",
    "        \n",
    "    def clear(self):\n",
    "        self.loss = None\n",
    "        self.accuracy = None\n",
    "        \n",
    "    def __call__(self, x, t):\n",
    "        self.clear()\n",
    "        y = self.predictor(x)\n",
    "        loss = F.softmax_cross_entropy(y, t)\n",
    "        self.accuracy = F.accuracy(y, t)\n",
    "        chainer.report({'loss': loss, 'accuracy': self.accuracy}, self)\n",
    "        return loss\n"
   ]
  },
  {
   "cell_type": "code",
   "execution_count": 11,
   "metadata": {
    "collapsed": false
   },
   "outputs": [],
   "source": [
    "\n",
    "gpu_id = 0 #  use gpu\n",
    "model = Classifier(VGG(class_labels))\n",
    "\n",
    "if gpu_id >= 0:\n",
    "    chainer.cuda.get_device(gpu_id).use()  # Make a specified GPU current\n",
    "    model.to_gpu()  # Copy the model to the GPU"
   ]
  },
  {
   "cell_type": "markdown",
   "metadata": {},
   "source": [
    "# Setup an optimizer"
   ]
  },
  {
   "cell_type": "code",
   "execution_count": 12,
   "metadata": {
    "collapsed": true
   },
   "outputs": [],
   "source": [
    "optimizer = chainer.optimizers.MomentumSGD(0.1)\n",
    "optimizer.use_cleargrads()\n",
    "optimizer.setup(model)\n",
    "optimizer.add_hook(chainer.optimizer.WeightDecay(5e-4))"
   ]
  },
  {
   "cell_type": "code",
   "execution_count": null,
   "metadata": {
    "collapsed": true
   },
   "outputs": [],
   "source": []
  },
  {
   "cell_type": "code",
   "execution_count": 13,
   "metadata": {
    "collapsed": true
   },
   "outputs": [],
   "source": [
    "batch = train_iter.next()"
   ]
  },
  {
   "cell_type": "code",
   "execution_count": 14,
   "metadata": {
    "collapsed": false
   },
   "outputs": [
    {
     "data": {
      "text/plain": [
       "<module 'cupy' from '/home/komatsu/anaconda2/lib/python2.7/site-packages/cupy/__init__.pyc'>"
      ]
     },
     "execution_count": 14,
     "metadata": {},
     "output_type": "execute_result"
    }
   ],
   "source": [
    "xp = model.xp\n",
    "xp"
   ]
  },
  {
   "cell_type": "code",
   "execution_count": 15,
   "metadata": {
    "collapsed": true
   },
   "outputs": [],
   "source": [
    "x = xp.asarray([it[0] for it in batch], dtype=np.float32)\n",
    "t = xp.asarray([it[1] for it in batch], dtype=np.int32)"
   ]
  },
  {
   "cell_type": "code",
   "execution_count": 16,
   "metadata": {
    "collapsed": false
   },
   "outputs": [
    {
     "data": {
      "text/plain": [
       "(3, 32, 32)"
      ]
     },
     "execution_count": 16,
     "metadata": {},
     "output_type": "execute_result"
    }
   ],
   "source": [
    "x[0].shape"
   ]
  },
  {
   "cell_type": "code",
   "execution_count": 17,
   "metadata": {
    "collapsed": false
   },
   "outputs": [
    {
     "name": "stdout",
     "output_type": "stream",
     "text": [
      "2.79799675941\n"
     ]
    }
   ],
   "source": [
    "# predict without Classifier\n",
    "y = model.predictor(x)\n",
    "loss = F.softmax_cross_entropy(y, t)\n",
    "#print(y.data)\n",
    "print(loss.data)"
   ]
  },
  {
   "cell_type": "code",
   "execution_count": 18,
   "metadata": {
    "collapsed": false
   },
   "outputs": [
    {
     "data": {
      "text/plain": [
       "array([[-2.77061367,  0.50353652,  0.16753215, ...,  0.20824817,\n",
       "        -1.42984438, -0.35557461],\n",
       "       [-2.36415195,  0.38795841,  1.51521218, ...,  1.03411067,\n",
       "        -0.69066375,  0.36017844],\n",
       "       [-2.6544559 ,  0.22267927,  0.05753254, ...,  0.63379568,\n",
       "        -0.14436273,  0.09109555],\n",
       "       ..., \n",
       "       [-1.90264261, -1.01524186,  2.96824145, ..., -0.40632311,\n",
       "        -0.76937735,  0.14880049],\n",
       "       [-2.24681449, -0.38022453, -1.4336077 , ..., -0.42803025,\n",
       "        -1.74473071, -0.41486323],\n",
       "       [-1.83196187, -1.50650048,  0.46756282, ..., -0.24303272,\n",
       "        -1.77973819,  0.38863242]], dtype=float32)"
      ]
     },
     "execution_count": 18,
     "metadata": {},
     "output_type": "execute_result"
    }
   ],
   "source": [
    "y.data"
   ]
  },
  {
   "cell_type": "code",
   "execution_count": null,
   "metadata": {
    "collapsed": false
   },
   "outputs": [
    {
     "data": {
      "text/plain": [
       "array(5, dtype=int32)"
      ]
     },
     "execution_count": 19,
     "metadata": {},
     "output_type": "execute_result"
    }
   ],
   "source": [
    "t[0]"
   ]
  },
  {
   "cell_type": "code",
   "execution_count": null,
   "metadata": {
    "collapsed": true
   },
   "outputs": [],
   "source": []
  },
  {
   "cell_type": "code",
   "execution_count": null,
   "metadata": {
    "collapsed": true
   },
   "outputs": [],
   "source": []
  },
  {
   "cell_type": "code",
   "execution_count": null,
   "metadata": {
    "collapsed": false
   },
   "outputs": [
    {
     "name": "stdout",
     "output_type": "stream",
     "text": [
      "epoch : 0, Mean loss: 1.30909144878, Mean accuracy: 0.5257999897\n",
      "epoch : 1, Mean loss: 1.01005339622, Mean accuracy: 0.640600025654\n",
      "epoch : 2, Mean loss: 0.908256649971, Mean accuracy: 0.678600013256\n",
      "epoch : 3, Mean loss: 0.881660282612, Mean accuracy: 0.691900014877\n",
      "epoch : 4, Mean loss: 0.885430455208, Mean accuracy: 0.692200005054\n",
      "epoch : 5, Mean loss: 0.798857390881, Mean accuracy: 0.725499987602\n",
      "epoch : 6, Mean loss: 0.788113892078, Mean accuracy: 0.729799985886\n",
      "epoch : 7, Mean loss: 0.729344546795, Mean accuracy: 0.743399977684\n",
      "epoch : 8, Mean loss: 0.759082555771, Mean accuracy: 0.739300012589\n",
      "epoch : 9, Mean loss: 0.692937910557, Mean accuracy: 0.764199972153\n",
      "epoch : 10, Mean loss: 0.679129242897, Mean accuracy: 0.767499983311\n",
      "epoch : 11, Mean loss: 0.692488789558, Mean accuracy: 0.765100002289\n",
      "epoch : 12, Mean loss: 0.72065281868, Mean accuracy: 0.749199986458\n",
      "epoch : 13, Mean loss: 0.718389153481, Mean accuracy: 0.763700008392\n",
      "epoch : 14, Mean loss: 0.68884575367, Mean accuracy: 0.771799981594\n",
      "epoch : 15, Mean loss: 0.735569119453, Mean accuracy: 0.753199994564\n",
      "epoch : 16, Mean loss: 0.757668018341, Mean accuracy: 0.748099982738\n",
      "epoch : 17, Mean loss: 0.656380236149, Mean accuracy: 0.780700027943\n",
      "epoch : 18, Mean loss: 0.711191475391, Mean accuracy: 0.763300001621\n",
      "epoch : 19, Mean loss: 0.688628613949, Mean accuracy: 0.76810002327\n",
      "epoch : 20, Mean loss: 0.708807885647, Mean accuracy: 0.758499979973\n",
      "epoch : 21, Mean loss: 0.712840020657, Mean accuracy: 0.763599991798\n",
      "epoch : 22, Mean loss: 0.68985170126, Mean accuracy: 0.764599978924\n",
      "epoch : 23, Mean loss: 0.652180373669, Mean accuracy: 0.786499977112\n",
      "epoch : 24, Mean loss: 0.641494810581, Mean accuracy: 0.782199978828\n",
      "epoch : 25, Mean loss: 0.701306223869, Mean accuracy: 0.768000006676\n",
      "epoch : 26, Mean loss: 0.672466278076, Mean accuracy: 0.778800010681\n",
      "epoch : 27, Mean loss: 0.688382506371, Mean accuracy: 0.778900027275\n",
      "epoch : 28, Mean loss: 0.666345238686, Mean accuracy: 0.779100000858\n",
      "epoch : 29, Mean loss: 0.668249368668, Mean accuracy: 0.781899988651\n",
      "epoch : 30, Mean loss: 0.707307219505, Mean accuracy: 0.767499983311\n",
      "epoch : 31, Mean loss: 0.66488391161, Mean accuracy: 0.77999997139\n",
      "epoch : 32, Mean loss: 0.658459544182, Mean accuracy: 0.786000013351\n",
      "epoch : 33, Mean loss: 0.691760957241, Mean accuracy: 0.776400029659\n",
      "epoch : 34, Mean loss: 0.663221478462, Mean accuracy: 0.781300008297\n",
      "epoch : 35, Mean loss: 0.662029027939, Mean accuracy: 0.781599998474\n",
      "epoch : 36, Mean loss: 0.719035804272, Mean accuracy: 0.761699974537\n",
      "epoch : 37, Mean loss: 0.673753619194, Mean accuracy: 0.783200025558\n",
      "epoch : 38, Mean loss: 0.681580603123, Mean accuracy: 0.77689999342\n",
      "epoch : 39, Mean loss: 0.698876202106, Mean accuracy: 0.766799986362\n",
      "epoch : 40, Mean loss: 0.64191275835, Mean accuracy: 0.786499977112\n",
      "epoch : 41, Mean loss: 0.702664196491, Mean accuracy: 0.774699985981\n",
      "epoch : 42, Mean loss: 0.698388278484, Mean accuracy: 0.776799976826\n",
      "epoch : 43, Mean loss: 0.674148976803, Mean accuracy: 0.778800010681\n",
      "epoch : 44, Mean loss: 0.659255921841, Mean accuracy: 0.784900009632\n",
      "epoch : 45, Mean loss: 0.730423331261, Mean accuracy: 0.766300022602\n",
      "epoch : 46, Mean loss: 0.665635824203, Mean accuracy: 0.774399995804\n",
      "epoch : 47, Mean loss: 0.709530830383, Mean accuracy: 0.777599990368\n",
      "epoch : 48, Mean loss: 0.650968492031, Mean accuracy: 0.790700018406\n",
      "epoch : 49, Mean loss: 0.657894253731, Mean accuracy: 0.787299990654\n",
      "epoch : 50, Mean loss: 0.677284002304, Mean accuracy: 0.784300029278\n",
      "epoch : 51, Mean loss: 0.672040045261, Mean accuracy: 0.782999992371\n",
      "epoch : 52, Mean loss: 0.66098433733, Mean accuracy: 0.785099983215\n",
      "epoch : 53, Mean loss: 0.694315910339, Mean accuracy: 0.772099971771\n",
      "epoch : 54, Mean loss: 0.662139475346, Mean accuracy: 0.781199991703\n",
      "epoch : 55, Mean loss: 0.780836939812, Mean accuracy: 0.74430000782\n",
      "epoch : 56, Mean loss: 0.662441432476, Mean accuracy: 0.788900017738\n",
      "epoch : 57, Mean loss: 0.688308775425, Mean accuracy: 0.778500020504\n",
      "epoch : 58, Mean loss: 0.704944610596, Mean accuracy: 0.771300017834\n",
      "epoch : 59, Mean loss: 0.658880591393, Mean accuracy: 0.790600001812\n",
      "epoch : 60, Mean loss: 0.698728919029, Mean accuracy: 0.776400029659\n",
      "epoch : 61, Mean loss: 0.71970230341, Mean accuracy: 0.774399995804\n",
      "epoch : 62, Mean loss: 0.635299503803, Mean accuracy: 0.792200028896\n",
      "epoch : 63, Mean loss: 0.690455317497, Mean accuracy: 0.77689999342\n",
      "epoch : 64, Mean loss: 0.691609740257, Mean accuracy: 0.777700006962\n",
      "epoch : 65, Mean loss: 0.645768284798, Mean accuracy: 0.789399981499\n",
      "epoch : 66, Mean loss: 0.667349696159, Mean accuracy: 0.782400012016\n",
      "epoch : 67, Mean loss: 0.728902697563, Mean accuracy: 0.76859998703\n",
      "epoch : 68, Mean loss: 0.718291282654, Mean accuracy: 0.771099984646\n",
      "epoch : 69, Mean loss: 0.698635458946, Mean accuracy: 0.777000010014\n",
      "epoch : 70, Mean loss: 0.666396856308, Mean accuracy: 0.791700005531\n",
      "epoch : 71, Mean loss: 0.644348800182, Mean accuracy: 0.793099999428\n",
      "epoch : 72, Mean loss: 0.70253187418, Mean accuracy: 0.776700019836\n",
      "epoch : 73, Mean loss: 0.659671843052, Mean accuracy: 0.785700023174\n",
      "epoch : 74, Mean loss: 0.663840651512, Mean accuracy: 0.792100012302\n",
      "epoch : 75, Mean loss: 0.659886837006, Mean accuracy: 0.792299985886\n",
      "epoch : 76, Mean loss: 0.669416725636, Mean accuracy: 0.783599972725\n",
      "epoch : 77, Mean loss: 0.646925151348, Mean accuracy: 0.790499985218\n",
      "epoch : 78, Mean loss: 0.708701431751, Mean accuracy: 0.777800023556\n",
      "epoch : 79, Mean loss: 0.635751187801, Mean accuracy: 0.795000016689\n",
      "epoch : 80, Mean loss: 0.653236448765, Mean accuracy: 0.788600027561\n",
      "epoch : 81, Mean loss: 0.64891821146, Mean accuracy: 0.788999974728\n",
      "epoch : 82, Mean loss: 0.702306210995, Mean accuracy: 0.7799000144\n",
      "epoch : 83, Mean loss: 0.706734597683, Mean accuracy: 0.771300017834\n",
      "epoch : 84, Mean loss: 0.671733617783, Mean accuracy: 0.790000021458\n",
      "epoch : 85, Mean loss: 0.711815416813, Mean accuracy: 0.779699981213\n",
      "epoch : 86, Mean loss: 0.678471207619, Mean accuracy: 0.780499994755\n",
      "epoch : 87, Mean loss: 0.706426978111, Mean accuracy: 0.777000010014\n",
      "epoch : 88, Mean loss: 0.68679702282, Mean accuracy: 0.783399999142\n",
      "epoch : 89, Mean loss: 0.699708044529, Mean accuracy: 0.774900019169\n",
      "epoch : 90, Mean loss: 0.670437216759, Mean accuracy: 0.785700023174\n",
      "epoch : 91, Mean loss: 0.717818379402, Mean accuracy: 0.777000010014\n",
      "epoch : 92, Mean loss: 0.697312474251, Mean accuracy: 0.779100000858\n",
      "epoch : 93, Mean loss: 0.642220914364, Mean accuracy: 0.792100012302\n",
      "epoch : 94, Mean loss: 0.664318561554, Mean accuracy: 0.78979998827\n",
      "epoch : 95, Mean loss: 0.676412284374, Mean accuracy: 0.78820002079\n",
      "epoch : 96, Mean loss: 0.708957016468, Mean accuracy: 0.780900001526\n",
      "epoch : 97, Mean loss: 0.681738972664, Mean accuracy: 0.778900027275\n",
      "epoch : 98, Mean loss: 0.691961109638, Mean accuracy: 0.785300016403\n",
      "epoch : 99, Mean loss: 0.673286795616, Mean accuracy: 0.787999987602\n",
      "epoch : 100, Mean loss: 0.68982565403, Mean accuracy: 0.783399999142\n",
      "epoch : 101, Mean loss: 0.697884202003, Mean accuracy: 0.778299987316\n",
      "epoch : 102, Mean loss: 0.713487505913, Mean accuracy: 0.773599982262\n",
      "epoch : 103, Mean loss: 0.688774824142, Mean accuracy: 0.782100021839\n",
      "epoch : 104, Mean loss: 0.69788557291, Mean accuracy: 0.769999980927\n",
      "epoch : 105, Mean loss: 0.689672231674, Mean accuracy: 0.777400016785\n",
      "epoch : 106, Mean loss: 0.652684926987, Mean accuracy: 0.785300016403\n",
      "epoch : 107, Mean loss: 0.632951617241, Mean accuracy: 0.794600009918\n",
      "epoch : 108, Mean loss: 0.707456171513, Mean accuracy: 0.770799994469\n",
      "epoch : 109, Mean loss: 0.673264324665, Mean accuracy: 0.781400024891\n",
      "epoch : 110, Mean loss: 0.702865123749, Mean accuracy: 0.777700006962\n",
      "epoch : 111, Mean loss: 0.705076277256, Mean accuracy: 0.774900019169\n",
      "epoch : 112, Mean loss: 0.678647279739, Mean accuracy: 0.781799972057\n",
      "epoch : 113, Mean loss: 0.668045759201, Mean accuracy: 0.793500006199\n",
      "epoch : 114, Mean loss: 0.66075438261, Mean accuracy: 0.787699997425\n",
      "epoch : 115, Mean loss: 0.721737742424, Mean accuracy: 0.776799976826\n",
      "epoch : 116, Mean loss: 0.704630672932, Mean accuracy: 0.772400021553\n",
      "epoch : 117, Mean loss: 0.687098026276, Mean accuracy: 0.784200012684\n",
      "epoch : 118, Mean loss: 0.681751608849, Mean accuracy: 0.77530002594\n",
      "epoch : 119, Mean loss: 0.684978663921, Mean accuracy: 0.787899971008\n",
      "epoch : 120, Mean loss: 0.702213764191, Mean accuracy: 0.774800002575\n",
      "epoch : 121, Mean loss: 0.645988345146, Mean accuracy: 0.795000016689\n",
      "epoch : 122, Mean loss: 0.745366871357, Mean accuracy: 0.771000027657\n",
      "epoch : 123, Mean loss: 0.669586777687, Mean accuracy: 0.787699997425\n"
     ]
    }
   ],
   "source": [
    "%%time\n",
    "from tqdm import tqdm_notebook as tqdm\n",
    "# from tqdm import tqdm\n",
    "\n",
    "# run\n",
    "xp = model.xp\n",
    "\n",
    "pbar = tqdm(xrange(epochsize))\n",
    "for epoch in pbar:\n",
    "    for batch in train_iter:\n",
    "        # data separation\n",
    "        x = xp.asarray([it[0] for it in batch], dtype=np.float32)\n",
    "        t = xp.asarray([it[1] for it in batch], dtype=np.int32)\n",
    "        # compute grad\n",
    "        loss = model(x, t)\n",
    "        model.cleargrads()\n",
    "        loss.backward()\n",
    "        optimizer.update()\n",
    "\n",
    "        # terminate\n",
    "        if train_iter.is_new_epoch is True:\n",
    "            break\n",
    "\n",
    "    # evaluate model   \n",
    "    sum_loss = 0\n",
    "    sum_acc = 0\n",
    "    test_iter_copy = copy.copy(test_iter)\n",
    "    for test_batch in test_iter_copy:\n",
    "        # data separation\n",
    "        x = xp.asarray([it[0] for it in test_batch], dtype=np.float32)\n",
    "        t = xp.asarray([it[1] for it in test_batch], dtype=np.int32)\n",
    "        # compute grad\n",
    "        loss = model(x, t)\n",
    "        sum_loss += loss.data * len(test_batch)\n",
    "        sum_acc += model.accuracy.data * len(test_batch)\n",
    "    mean_loss = sum_loss / testsize\n",
    "    mean_acc = sum_acc / testsize\n",
    "#     print(''.format(epoch=epoch))\n",
    "    print('epoch : {epoch}, Mean loss: {loss}, Mean accuracy: {acc}'.format(epoch=epoch, loss=mean_loss, acc=mean_acc))\n",
    "    # pbar.set_description('epoch : {epoch}'.format(epoch=epoch))"
   ]
  }
 ],
 "metadata": {
  "anaconda-cloud": {},
  "kernelspec": {
   "display_name": "Python [conda root]",
   "language": "python",
   "name": "conda-root-py"
  },
  "language_info": {
   "codemirror_mode": {
    "name": "ipython",
    "version": 2
   },
   "file_extension": ".py",
   "mimetype": "text/x-python",
   "name": "python",
   "nbconvert_exporter": "python",
   "pygments_lexer": "ipython2",
   "version": "2.7.12"
  },
  "widgets": {
   "state": {
    "479895c37b8c4254b2bd636557e847f0": {
     "views": [
      {
       "cell_index": 27
      }
     ]
    }
   },
   "version": "1.2.0"
  }
 },
 "nbformat": 4,
 "nbformat_minor": 1
}
