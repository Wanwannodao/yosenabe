{
 "cells": [
  {
   "cell_type": "code",
   "execution_count": 3,
   "metadata": {
    "collapsed": false
   },
   "outputs": [
    {
     "name": "stderr",
     "output_type": "stream",
     "text": [
      "usage: __main__.py [-h] [--batchsize BATCHSIZE] [--epoch EPOCH] [--gpu GPU]\n",
      "                   [--out OUT] [--resume RESUME] [--unit UNIT]\n",
      "__main__.py: error: unrecognized arguments: -f /run/user/1000/jupyter/kernel-20e7ccb6-7a34-4f8f-be67-56cb741928d0.json\n"
     ]
    },
    {
     "ename": "SystemExit",
     "evalue": "2",
     "output_type": "error",
     "traceback": [
      "An exception has occurred, use %tb to see the full traceback.\n",
      "\u001b[0;31mSystemExit\u001b[0m\u001b[0;31m:\u001b[0m 2\n"
     ]
    }
   ],
   "source": [
    "from __future__ import print_function\n",
    "import argparse\n",
    "\n",
    "import chainer\n",
    "import chainer.functions as F\n",
    "import chainer.links as L\n",
    "from chainer import training\n",
    "from chainer.training import extensions\n",
    "\n",
    "\n",
    "# Network definition\n",
    "class MLP(chainer.Chain):\n",
    "\n",
    "    def __init__(self, n_units, n_out):\n",
    "        super(MLP, self).__init__(\n",
    "            # the size of the inputs to each layer will be inferred\n",
    "            l1=L.Linear(None, n_units),  # n_in -> n_units\n",
    "            l2=L.Linear(None, n_units),  # n_units -> n_units\n",
    "            l3=L.Linear(None, n_out),  # n_units -> n_out\n",
    "        )\n",
    "\n",
    "    def __call__(self, x):\n",
    "        h1 = F.relu(self.l1(x))\n",
    "        h2 = F.relu(self.l2(h1))\n",
    "        return self.l3(h2)\n",
    "\n",
    "parser = argparse.ArgumentParser(description='Chainer example: MNIST')\n",
    "parser.add_argument('--batchsize', '-b', type=int, default=100,\n",
    "                    help='Number of images in each mini-batch')\n",
    "parser.add_argument('--epoch', '-e', type=int, default=20,\n",
    "                    help='Number of sweeps over the dataset to train')\n",
    "parser.add_argument('--gpu', '-g', type=int, default=0,\n",
    "                    help='GPU ID (negative value indicates CPU)')\n",
    "parser.add_argument('--out', '-o', default='result',\n",
    "                    help='Directory to output the result')\n",
    "parser.add_argument('--resume', '-r', default='',\n",
    "                    help='Resume the training from snapshot')\n",
    "parser.add_argument('--unit', '-u', type=int, default=1000,\n",
    "                    help='Number of units')\n",
    "args = parser.parse_args()\n",
    "\n",
    "print('GPU: {}'.format(args.gpu))\n",
    "print('# unit: {}'.format(args.unit))\n",
    "print('# Minibatch-size: {}'.format(args.batchsize))\n",
    "print('# epoch: {}'.format(args.epoch))\n",
    "print('')\n",
    "\n",
    "# Set up a neural network to train\n",
    "# Classifier reports softmax cross entropy loss and accuracy at every\n",
    "# iteration, which will be used by the PrintReport extension below.\n",
    "model = L.Classifier(MLP(args.unit, 10))\n",
    "if args.gpu >= 0:\n",
    "    chainer.cuda.get_device(args.gpu).use()  # Make a specified GPU current\n",
    "    model.to_gpu()  # Copy the model to the GPU\n",
    "\n",
    "# Setup an optimizer\n",
    "optimizer = chainer.optimizers.Adam()\n",
    "optimizer.setup(model)\n",
    "\n",
    "# Load the MNIST dataset\n",
    "train, test = chainer.datasets.get_mnist()\n",
    "\n",
    "train_iter = chainer.iterators.SerialIterator(train, args.batchsize)\n",
    "test_iter = chainer.iterators.SerialIterator(test, args.batchsize,\n",
    "                                             repeat=False, shuffle=False)\n",
    "\n",
    "# Set up a trainer\n",
    "updater = training.StandardUpdater(train_iter, optimizer, device=args.gpu)\n",
    "trainer = training.Trainer(updater, (args.epoch, 'epoch'), out=args.out)\n",
    "\n",
    "# Evaluate the model with the test dataset for each epoch\n",
    "trainer.extend(extensions.Evaluator(test_iter, model, device=args.gpu))\n",
    "\n",
    "# Dump a computational graph from 'loss' variable at the first iteration\n",
    "# The \"main\" refers to the target link of the \"main\" optimizer.\n",
    "trainer.extend(extensions.dump_graph('main/loss'))\n",
    "\n",
    "# Take a snapshot at each epoch\n",
    "trainer.extend(extensions.snapshot(), trigger=(args.epoch, 'epoch'))\n",
    "\n",
    "# Write a log of evaluation statistics for each epoch\n",
    "trainer.extend(extensions.LogReport())\n",
    "\n",
    "# Print selected entries of the log to stdout\n",
    "# Here \"main\" refers to the target link of the \"main\" optimizer again, and\n",
    "# \"validation\" refers to the default name of the Evaluator extension.\n",
    "# Entries other than 'epoch' are reported by the Classifier link, called by\n",
    "# either the updater or the evaluator.\n",
    "trainer.extend(extensions.PrintReport(\n",
    "    ['epoch', 'main/loss', 'validation/main/loss',\n",
    "     'main/accuracy', 'validation/main/accuracy', 'elapsed_time']))\n",
    "\n",
    "# Print a progress bar to stdout\n",
    "trainer.extend(extensions.ProgressBar())\n",
    "\n",
    "if args.resume:\n",
    "    # Resume from a snapshot\n",
    "    chainer.serializers.load_npz(args.resume, trainer)\n",
    "\n",
    "# Run the training\n",
    "trainer.run()\n",
    "\n"
   ]
  },
  {
   "cell_type": "code",
   "execution_count": null,
   "metadata": {
    "collapsed": true
   },
   "outputs": [],
   "source": []
  }
 ],
 "metadata": {
  "anaconda-cloud": {},
  "kernelspec": {
   "display_name": "Python [conda root]",
   "language": "python",
   "name": "conda-root-py"
  },
  "language_info": {
   "codemirror_mode": {
    "name": "ipython",
    "version": 2
   },
   "file_extension": ".py",
   "mimetype": "text/x-python",
   "name": "python",
   "nbconvert_exporter": "python",
   "pygments_lexer": "ipython2",
   "version": "2.7.12"
  }
 },
 "nbformat": 4,
 "nbformat_minor": 1
}
