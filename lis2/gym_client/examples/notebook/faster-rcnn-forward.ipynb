{
 "cells": [
  {
   "cell_type": "markdown",
   "metadata": {},
   "source": [
    "# Faster RCNN\n",
    "lis2/gym_client/examples/notebookフォルダで動くかテスト"
   ]
  },
  {
   "cell_type": "code",
   "execution_count": null,
   "metadata": {
    "collapsed": true
   },
   "outputs": [],
   "source": [
    "import sys\n",
    "sys.path.append('../../../../chainer-faster-rcnn')"
   ]
  },
  {
   "cell_type": "code",
   "execution_count": null,
   "metadata": {
    "collapsed": false
   },
   "outputs": [],
   "source": [
    "from chainer import serializers\n",
    "from chainer.cuda import to_gpu\n",
    "from lib.cpu_nms import cpu_nms as nms\n",
    "from lib.models.faster_rcnn import FasterRCNN\n",
    "\n",
    "import argparse\n",
    "import sys; sys.argv=['']; del sys\n",
    "import os\n",
    "import six.moves.cPickle as pickle\n",
    "import chainer\n",
    "import cv2 as cv\n",
    "import numpy as np\n",
    "\n",
    "%matplotlib inline\n",
    "import matplotlib.pyplot as plt\n",
    "from __future__ import print_function"
   ]
  },
  {
   "cell_type": "code",
   "execution_count": null,
   "metadata": {
    "collapsed": true
   },
   "outputs": [],
   "source": [
    "class FasterRCNNContainer():\n",
    "    CLASSES = ('__background__',\n",
    "               'aeroplane', 'bicycle', 'bird', 'boat',\n",
    "               'bottle', 'bus', 'car', 'cat', 'chair',\n",
    "               'cow', 'diningtable', 'dog', 'horse',\n",
    "               'motorbike', 'person', 'pottedplant',\n",
    "               'sheep', 'sofa', 'train', 'tvmonitor')\n",
    "    PIXEL_MEANS = np.array([[[102.9801, 115.9465, 122.7717]]])\n",
    "\n",
    "\n",
    "    def __init__(self, gpu=-1):\n",
    "        pickle_file = 'data/VGG16_faster_rcnn_final.pickle'\n",
    "        if os.path.exists(pickle_file):\n",
    "            print(\"loading... \" + pickle_file),\n",
    "            self.model = pickle.load(open(pickle_file))\n",
    "            print(\"done\")\n",
    "        else:\n",
    "            self.model = FasterRCNN(gpu)\n",
    "            serializers.load_npz('data/VGG16_faster_rcnn_final.model', self.model)\n",
    "            pickle.dump(self.model, open(pickle_file, 'wb'),-1)\n",
    "            print(\"pickle.dump finished\")\n",
    "        \n",
    "        self.model.train = False\n",
    "        if chainer.cuda.available and gpu >= 0:\n",
    "            self.model.to_gpu(gpu)\n",
    "        self.gpu = gpu\n",
    "        \n",
    "    def imread(self, img_fname):\n",
    "        orig_image = cv.imread(img_fname)\n",
    "        max_size=1000\n",
    "        scale=800\n",
    "        im_size_min = np.min(orig_image.shape[0:2])\n",
    "        im_size_max = np.max(orig_image.shape[0:2])\n",
    "        im_scale = float(scale) / float(im_size_min)\n",
    "        if np.round(im_scale * im_size_max) > max_size:\n",
    "            im_scale = float(max_size) / float(im_size_max)\n",
    "        orig_image = cv.resize(orig_image, None, None, fx=im_scale, fy=im_scale,\n",
    "                        interpolation=cv.INTER_LINEAR)\n",
    "        return orig_image\n",
    "    \n",
    "    def forward(self, orig_image):\n",
    "        img, im_scale = self.img_preprocessing(orig_image, self.PIXEL_MEANS)\n",
    "        img = np.expand_dims(img, axis=0)\n",
    "        if self.gpu >= 0:\n",
    "            img = to_gpu(img, device=self.gpu)\n",
    "        img = chainer.Variable(img, volatile=True)\n",
    "        h, w = img.data.shape[2:]\n",
    "        cls_score, bbox_pred = self.model(img, np.array([[h, w, im_scale]]))\n",
    "        cls_score = cls_score.data\n",
    "        return cls_score, bbox_pred, im_scale\n",
    "\n",
    "    def img_preprocessing(self, orig_img, pixel_means, max_size=1000, scale=600):\n",
    "        img = orig_img.astype(np.float32, copy=True)\n",
    "        img -= pixel_means\n",
    "        im_size_min = np.min(img.shape[0:2])\n",
    "        im_size_max = np.max(img.shape[0:2])\n",
    "        im_scale = float(scale) / float(im_size_min)\n",
    "        if np.round(im_scale * im_size_max) > max_size:\n",
    "            im_scale = float(max_size) / float(im_size_max)\n",
    "        img = cv.resize(img, None, None, fx=im_scale, fy=im_scale,\n",
    "                        interpolation=cv.INTER_LINEAR)\n",
    "\n",
    "        return img.transpose([2, 0, 1]).astype(np.float32), im_scale\n",
    "\n",
    "\n",
    "    def draw_result(self, out, im_scale, clss, bbox, nms_thresh=0.3, conf=0.8):\n",
    "        if self.gpu >= 0:\n",
    "            clss = chainer.cuda.cupy.asnumpy(clss)\n",
    "            bbox = chainer.cuda.cupy.asnumpy(bbox)\n",
    "        \n",
    "        CV_AA = 16\n",
    "        fontScale = 0.8\n",
    "        result = out.copy()\n",
    "        for cls_id in range(1, 21):\n",
    "            _cls = clss[:, cls_id][:, np.newaxis]\n",
    "            _bbx = bbox[:, cls_id * 4: (cls_id + 1) * 4]\n",
    "            dets = np.hstack((_bbx, _cls))\n",
    "            keep = nms(dets, nms_thresh)\n",
    "            dets = dets[keep, :]\n",
    "\n",
    "            inds = np.where(dets[:, -1] >= conf)[0]\n",
    "            for i in inds:\n",
    "                x1, y1, x2, y2 = map(int, dets[i, :4])\n",
    "                cv.rectangle(result, (x1, y1), (x2, y2), (0, 0, 255), 2, CV_AA)\n",
    "                disp_text = \"{0}:{1:.3f}\".format(self.CLASSES[cls_id], dets[i, 4])\n",
    "                ret, baseline = cv.getTextSize( disp_text, cv.FONT_HERSHEY_SIMPLEX, fontScale, 1)\n",
    "                cv.rectangle(result, (x1, y2 - ret[1] - baseline),\n",
    "                             (x1 + ret[0], y2), (0, 0, 255), -1)\n",
    "                cv.putText(result, disp_text, (x1, y2 - baseline),\n",
    "                           cv.FONT_HERSHEY_SIMPLEX, fontScale, (255, 255, 255), 1, CV_AA)\n",
    "\n",
    "        return result"
   ]
  },
  {
   "cell_type": "code",
   "execution_count": null,
   "metadata": {
    "collapsed": false
   },
   "outputs": [],
   "source": [
    "parser = argparse.ArgumentParser()\n",
    "parser.add_argument('--img_fn', type=str, default='sample.jpg')\n",
    "parser.add_argument('--out_fn', type=str, default='result.jpg')\n",
    "parser.add_argument('--nms_thresh', type=float, default=0.3)\n",
    "parser.add_argument('--conf', type=float, default=0.8)\n",
    "parser.add_argument('--gpu', type=int, default=0)\n",
    "args = parser.parse_args()"
   ]
  },
  {
   "cell_type": "code",
   "execution_count": null,
   "metadata": {
    "collapsed": false
   },
   "outputs": [],
   "source": [
    "gpu = 0\n",
    "rcnn = FasterRCNNContainer(gpu)"
   ]
  },
  {
   "cell_type": "code",
   "execution_count": null,
   "metadata": {
    "collapsed": true
   },
   "outputs": [],
   "source": [
    "def show(cv_mat):\n",
    "    plt.imshow(cv.cvtColor(cv_mat, cv.COLOR_BGR2RGB))"
   ]
  },
  {
   "cell_type": "code",
   "execution_count": null,
   "metadata": {
    "collapsed": false
   },
   "outputs": [],
   "source": [
    "orig_image = rcnn.imread(args.img_fn)\n",
    "show(orig_image)"
   ]
  },
  {
   "cell_type": "code",
   "execution_count": null,
   "metadata": {
    "collapsed": true
   },
   "outputs": [],
   "source": [
    "cls_score, bbox_pred, im_scale = rcnn.forward(orig_image)"
   ]
  },
  {
   "cell_type": "code",
   "execution_count": null,
   "metadata": {
    "collapsed": false
   },
   "outputs": [],
   "source": [
    "cls_id = 13\n",
    "rcnn.CLASSES[cls_id]"
   ]
  },
  {
   "cell_type": "code",
   "execution_count": null,
   "metadata": {
    "collapsed": false
   },
   "outputs": [],
   "source": [
    "result = rcnn.draw_result(orig_image, im_scale, cls_score, bbox_pred,\n",
    "                     args.nms_thresh, args.conf)\n",
    "cv.imwrite(args.out_fn, result)\n",
    "show(result)"
   ]
  },
  {
   "cell_type": "code",
   "execution_count": null,
   "metadata": {
    "collapsed": true
   },
   "outputs": [],
   "source": []
  },
  {
   "cell_type": "code",
   "execution_count": null,
   "metadata": {
    "collapsed": true
   },
   "outputs": [],
   "source": []
  },
  {
   "cell_type": "markdown",
   "metadata": {},
   "source": [
    "# 以下メモ書き"
   ]
  },
  {
   "cell_type": "code",
   "execution_count": null,
   "metadata": {
    "collapsed": true
   },
   "outputs": [],
   "source": []
  },
  {
   "cell_type": "code",
   "execution_count": null,
   "metadata": {
    "collapsed": true
   },
   "outputs": [],
   "source": []
  },
  {
   "cell_type": "code",
   "execution_count": null,
   "metadata": {
    "collapsed": true
   },
   "outputs": [],
   "source": []
  },
  {
   "cell_type": "code",
   "execution_count": null,
   "metadata": {
    "collapsed": true
   },
   "outputs": [],
   "source": []
  },
  {
   "cell_type": "code",
   "execution_count": null,
   "metadata": {
    "collapsed": true
   },
   "outputs": [],
   "source": []
  },
  {
   "cell_type": "code",
   "execution_count": null,
   "metadata": {
    "collapsed": false
   },
   "outputs": [],
   "source": [
    "img_fname = \"0.jpg\"\n",
    "orig_image = imread(img_fname)\n",
    "show(orig_image)"
   ]
  },
  {
   "cell_type": "code",
   "execution_count": null,
   "metadata": {
    "collapsed": false
   },
   "outputs": [],
   "source": [
    "img, im_scale = img_preprocessing(orig_image, PIXEL_MEANS)\n",
    "img = np.expand_dims(img, axis=0)\n",
    "if args.gpu >= 0:\n",
    "    img = to_gpu(img, device=args.gpu)\n",
    "img = chainer.Variable(img, volatile=True)\n",
    "\n",
    "h, w = img.data.shape[2:]\n",
    "cls_score, bbox_pred = model(img, np.array([[h, w, im_scale]]))\n",
    "cls_score = cls_score.data\n",
    "\n",
    "h, w = img.data.shape[2:]\n",
    "cls_score, bbox_pred = model(img, np.array([[h, w, im_scale]]))\n",
    "cls_score = cls_score.data\n",
    "\n",
    "if args.gpu >= 0:\n",
    "    cls_score = chainer.cuda.cupy.asnumpy(cls_score)\n",
    "    bbox_pred = chainer.cuda.cupy.asnumpy(bbox_pred)\n",
    "result = draw_result(orig_image, im_scale, cls_score, bbox_pred,\n",
    "                     0.4, 0.7)\n",
    "cv.imwrite(args.out_fn, result)\n",
    "show(result)"
   ]
  },
  {
   "cell_type": "code",
   "execution_count": null,
   "metadata": {
    "collapsed": true
   },
   "outputs": [],
   "source": []
  },
  {
   "cell_type": "code",
   "execution_count": null,
   "metadata": {
    "collapsed": false
   },
   "outputs": [],
   "source": [
    "for i in range(7):\n",
    "    img_fname = str(i)+\".jpg\"\n",
    "    orig_image = imread(img_fname)\n",
    "    img, im_scale = img_preprocessing(orig_image, PIXEL_MEANS)\n",
    "    img = np.expand_dims(img, axis=0)\n",
    "    if args.gpu >= 0:\n",
    "        img = to_gpu(img, device=args.gpu)\n",
    "    img = chainer.Variable(img, volatile=True)\n",
    "\n",
    "    h, w = img.data.shape[2:]\n",
    "    cls_score, bbox_pred = model(img, np.array([[h, w, im_scale]]))\n",
    "    cls_score = cls_score.data\n",
    "\n",
    "    h, w = img.data.shape[2:]\n",
    "    cls_score, bbox_pred = model(img, np.array([[h, w, im_scale]]))\n",
    "    cls_score = cls_score.data\n",
    "\n",
    "    if args.gpu >= 0:\n",
    "        cls_score = chainer.cuda.cupy.asnumpy(cls_score)\n",
    "        bbox_pred = chainer.cuda.cupy.asnumpy(bbox_pred)\n",
    "    result = draw_result(orig_image, im_scale, cls_score, bbox_pred,\n",
    "                         0.5, 0.7)\n",
    "    out_img = \"result\"+  str(i)+\".jpg\"\n",
    "    cv.imwrite(out_img, result)\n",
    "    show(result)"
   ]
  },
  {
   "cell_type": "code",
   "execution_count": null,
   "metadata": {
    "collapsed": true
   },
   "outputs": [],
   "source": []
  }
 ],
 "metadata": {
  "kernelspec": {
   "display_name": "Python 2",
   "language": "python",
   "name": "python2"
  },
  "language_info": {
   "codemirror_mode": {
    "name": "ipython",
    "version": 2
   },
   "file_extension": ".py",
   "mimetype": "text/x-python",
   "name": "python",
   "nbconvert_exporter": "python",
   "pygments_lexer": "ipython2",
   "version": "2.7.6"
  }
 },
 "nbformat": 4,
 "nbformat_minor": 2
}
